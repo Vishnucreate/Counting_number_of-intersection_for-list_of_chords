{
  "nbformat": 4,
  "nbformat_minor": 0,
  "metadata": {
    "colab": {
      "provenance": []
    },
    "kernelspec": {
      "name": "python3",
      "display_name": "Python 3"
    },
    "language_info": {
      "name": "python"
    }
  },
  "cells": [
    {
      "cell_type": "code",
      "source": [],
      "metadata": {
        "id": "F_Xoe5tGV1Tj"
      },
      "execution_count": 15,
      "outputs": []
    },
    {
      "cell_type": "code",
      "source": [
        "#   the overall run ttime complexity of this code is O(n^2) since uniwue chord combination is examined individually\n",
        "import numpy as np\n",
        "\n",
        "def count_intersections(radians, identifiers):\n",
        "    chords = {}\n",
        "    for i in range(len(radians)):\n",
        "        angle = radians[i]\n",
        "        point_id = identifiers[0][i]\n",
        "        chord_id = point_id[1:]\n",
        "        if chord_id in chords:\n",
        "            chords[chord_id].append(angle % (2 * np.pi))\n",
        "            chords[chord_id].sort()\n",
        "        else:\n",
        "            chords[chord_id] = [angle % (2 * np.pi)]\n",
        "\n",
        "    num_intersections = 0\n",
        "    chord_keys = list(chords.keys())\n",
        "    for i in range(len(chord_keys)):\n",
        "        c1_start, c1_end = chords[chord_keys[i]]\n",
        "        for j in range(i + 1, len(chord_keys)):\n",
        "            c2_start, c2_end = chords[chord_keys[j]]\n",
        "            if (c1_start < c2_start < c1_end) ^ (c1_start < c2_end < c1_end):\n",
        "                num_intersections += 1\n",
        "    return num_intersections\n",
        "radians = [0.9, 1.3, 1.70, 2.92]\n",
        "identifiers = [[\"s1\", \"e1\", \"s2\", \"e2\"]]\n",
        "\n",
        "\n",
        "\n",
        "\n",
        "# Count intersections\n",
        "num_intersections = count_intersections(radians, identifiers)\n",
        "print(\"Number of intersections:\", num_intersections)\n",
        "\n"
      ],
      "metadata": {
        "colab": {
          "base_uri": "https://localhost:8080/"
        },
        "id": "RkXpLIhmoivK",
        "outputId": "e5b00f9b-cf0d-473a-f1a8-1f27563eb02f"
      },
      "execution_count": 16,
      "outputs": [
        {
          "output_type": "stream",
          "name": "stdout",
          "text": [
            "Number of intersections: 0\n"
          ]
        }
      ]
    },
    {
      "cell_type": "code",
      "source": [
        "import numpy as np\n",
        "\n",
        "def count_intersections(radians, identifiers):\n",
        "    chords = {}\n",
        "    for i in range(len(radians)):\n",
        "        angle = radians[i]\n",
        "        point_id = identifiers[0][i]\n",
        "        chord_id = point_id[1:]\n",
        "        if chord_id in chords:\n",
        "            chords[chord_id].append(angle % (2 * np.pi))\n",
        "            chords[chord_id].sort()\n",
        "        else:\n",
        "            chords[chord_id] = [angle % (2 * np.pi)]\n",
        "\n",
        "    num_intersections = 0\n",
        "    chord_keys = list(chords.keys())\n",
        "    for i in range(len(chord_keys)):\n",
        "        c1_start, c1_end = chords[chord_keys[i]]\n",
        "        for j in range(i + 1, len(chord_keys)):\n",
        "            c2_start, c2_end = chords[chord_keys[j]]\n",
        "            if (c1_start < c2_start < c1_end) ^ (c1_start < c2_end < c1_end):\n",
        "                num_intersections += 1\n",
        "    return num_intersections\n",
        "radians = [0.78, 1.47, 1.77, 3.92]\n",
        "identifiers = [[\"s1\", \"s2\", \"e1\", \"e2\"]]\n",
        "num_intersections = count_intersections(radians, identifiers)\n",
        "print(\"Number of intersections:\", num_intersections)"
      ],
      "metadata": {
        "colab": {
          "base_uri": "https://localhost:8080/"
        },
        "id": "Laga2Y1LvCm4",
        "outputId": "4a9c8db9-a7ac-4125-9f8e-c6afcd0ca057"
      },
      "execution_count": 17,
      "outputs": [
        {
          "output_type": "stream",
          "name": "stdout",
          "text": [
            "Number of intersections: 1\n"
          ]
        }
      ]
    },
    {
      "cell_type": "code",
      "source": [
        "# the time complexity is O(n)  the complexities of building the dictionary and converting to a NumPy array, and calculating intersections, the dominant term is still the linear iteration over the angles O(n)\n",
        "import numpy as np\n",
        "\n",
        "def count_intersections_numpy(radians, identifiers):\n",
        "    # Dictionary to store chord angles\n",
        "    chords = {}\n",
        "\n",
        "    # Iterate through radians and identifiers\n",
        "    for angle, point_id in zip(radians, identifiers[0]):\n",
        "        # Extract chord ID\n",
        "        chord_id = point_id[1:]\n",
        "        if chord_id in chords:\n",
        "            # Append angle to existing chord\n",
        "            chords[chord_id].append(angle % (2 * np.pi))\n",
        "            chords[chord_id].sort()\n",
        "        else:\n",
        "            # Create a new chord with angle\n",
        "            chords[chord_id] = [angle % (2 * np.pi)]\n",
        "\n",
        "    # Convert dictionary values to NumPy array\n",
        "    chords_list = np.array(list(chords.values()))\n",
        "\n",
        "    # Conditions for chord intersections\n",
        "    c1_start_lt_c2_start = chords_list[:, 0] < chords_list[:, 0, None]\n",
        "    c2_start_lt_c1_end = chords_list[:, 0, None] < chords_list[:, 1]\n",
        "    condition1 = c1_start_lt_c2_start & c2_start_lt_c1_end\n",
        "    condition2 = chords_list[:, 0] < chords_list[:, 1, None]\n",
        "    c2_end_lt_c1_end = chords_list[:, 1, None] < chords_list[:, 1]\n",
        "    xor_conditions = np.logical_xor(condition1, condition2)\n",
        "\n",
        "    # Count intersections\n",
        "    intersections_count = xor_conditions.sum() // 2\n",
        "    return intersections_count\n",
        "radians = [0.9, 1.3, 1.70, 2.92]\n",
        "identifiers = [[\"s1\", \"e1\", \"s2\", \"e2\"]]\n",
        "num_intersections = count_intersections(radians, identifiers)\n",
        "print(\"Number of intersections:\", num_intersections)\n"
      ],
      "metadata": {
        "colab": {
          "base_uri": "https://localhost:8080/"
        },
        "id": "NSdqk5XgtOVz",
        "outputId": "4eaef8a0-569b-404c-d099-ba8df90b3645"
      },
      "execution_count": 18,
      "outputs": [
        {
          "output_type": "stream",
          "name": "stdout",
          "text": [
            "Number of intersections: 0\n"
          ]
        }
      ]
    },
    {
      "cell_type": "code",
      "source": [
        "import numpy as np\n",
        "\n",
        "def count_intersections_numpy(radians, identifiers):\n",
        "    # Dictionary to store chord angles\n",
        "    chords = {}\n",
        "\n",
        "    # Iterate through radians and identifiers\n",
        "    for angle, point_id in zip(radians, identifiers[0]):\n",
        "        # Extract chord ID\n",
        "        chord_id = point_id[1:]\n",
        "        if chord_id in chords:\n",
        "            # Append angle to existing chord\n",
        "            chords[chord_id].append(angle % (2 * np.pi))\n",
        "            chords[chord_id].sort()\n",
        "        else:\n",
        "            # Create a new chord with angle\n",
        "            chords[chord_id] = [angle % (2 * np.pi)]\n",
        "\n",
        "    # Convert dictionary values to NumPy array\n",
        "    chords_list = np.array(list(chords.values()))\n",
        "\n",
        "    # Conditions for chord intersections\n",
        "    c1_start_lt_c2_start = chords_list[:, 0] < chords_list[:, 0, None]\n",
        "    c2_start_lt_c1_end = chords_list[:, 0, None] < chords_list[:, 1]\n",
        "    condition1 = c1_start_lt_c2_start & c2_start_lt_c1_end\n",
        "    condition2 = chords_list[:, 0] < chords_list[:, 1, None]\n",
        "    c2_end_lt_c1_end = chords_list[:, 1, None] < chords_list[:, 1]\n",
        "    xor_conditions = np.logical_xor(condition1, condition2)\n",
        "\n",
        "    # Count intersections\n",
        "    intersections_count = xor_conditions.sum() // 2\n",
        "    return intersections_count\n",
        "radians = [0.78, 1.47, 1.77, 3.92]\n",
        "identifiers = [[\"s1\", \"s2\", \"e1\", \"e2\"]]\n",
        "num_intersections = count_intersections(radians, identifiers)\n",
        "print(\"Number of intersections:\", num_intersections)"
      ],
      "metadata": {
        "colab": {
          "base_uri": "https://localhost:8080/"
        },
        "id": "qoMsw9R5tTff",
        "outputId": "7db46f35-31f0-4154-c9af-32a6b97202b4"
      },
      "execution_count": 19,
      "outputs": [
        {
          "output_type": "stream",
          "name": "stdout",
          "text": [
            "Number of intersections: 1\n"
          ]
        }
      ]
    },
    {
      "cell_type": "code",
      "source": [],
      "metadata": {
        "id": "W89d0if_te-E"
      },
      "execution_count": 19,
      "outputs": []
    }
  ]
}